{
  "nbformat": 4,
  "nbformat_minor": 0,
  "metadata": {
    "colab": {
      "provenance": [],
      "include_colab_link": true
    },
    "kernelspec": {
      "name": "python3",
      "display_name": "Python 3"
    },
    "language_info": {
      "name": "python"
    }
  },
  "cells": [
    {
      "cell_type": "markdown",
      "metadata": {
        "id": "view-in-github",
        "colab_type": "text"
      },
      "source": [
        "<a href=\"https://colab.research.google.com/github/jose-milciades/Spoon-Knife/blob/main/Taller_1%2C_2_y_3_An%C3%A1lisis_de_Datos.ipynb\" target=\"_parent\"><img src=\"https://colab.research.google.com/assets/colab-badge.svg\" alt=\"Open In Colab\"/></a>"
      ]
    },
    {
      "cell_type": "markdown",
      "source": [
        "# ***Taller 1, 2 y 3 de análisis de datos:***\n",
        "\n",
        "1. Pregunta Smart\n",
        "2. Análisis Univariado\n",
        "3. Análisis Bivariado"
      ],
      "metadata": {
        "id": "H_iVMVvmL0OF"
      }
    },
    {
      "cell_type": "markdown",
      "source": [
        "**Solución punto 1: Pregunta Smart.** ❔"
      ],
      "metadata": {
        "id": "djB20p8XONJO"
      }
    },
    {
      "cell_type": "markdown",
      "source": [
        "I. Describir el problema de la organización:"
      ],
      "metadata": {
        "id": "cUUEPE9_NIsm"
      }
    },
    {
      "cell_type": "markdown",
      "source": [
        "\n",
        "El Banco Falabella es una de las entidades financieras más importantes en términos de colocación de tarjetas de crédito en Colombia. Esta entidad maneja dos tipos de clientes. El primer grupo es el grupo de clientes que frecuentan el ecosistema y son evaluados de manera batch (proceso masivo) y se genera una pre aprobación al evaluar estos clientes por un modelo de machine learning y diferentes criterios de riesgo de crédito. El segundo segmento, representa a los clientes que no han tenido ningún tipo de contacto con el banco o sus aliados (ecosistema). Actualmente, el banco cuenta con un modelo de baja predicción para evaluar este segmento de clientes y su tasa de aprobación es del 0,5% (se aprueban aproximadamente 500 tarjetas de 100.000 solicitudes evaluadas).\n",
        "\n",
        "La baja aprobación de este segmento está limitando al banco a no poder potenciar su crecimiento, rechazando posibles clientes buenos para la entidad, dejando de maximizar el potencial y generando posibles pérdidas reputacionales."
      ],
      "metadata": {
        "id": "xU4liyYvNIvD"
      }
    },
    {
      "cell_type": "markdown",
      "source": [
        "II. Describir cómo la ciencia de datos apoyada con IA puede ayudar a resolver el reto:"
      ],
      "metadata": {
        "id": "8aB6zh2wNIxm"
      }
    },
    {
      "cell_type": "markdown",
      "source": [
        "La ciencia de datos apoyada por IA puede solucionar este problema al desarrollar un modelo que pueda predecir de una mejor manera el comportamiento de los clientes del segmento de espontáneos para maximizar la aprobación de los mismos.\n",
        "\n",
        "El modelo a utilizar es un modelo de regresión logística que nos permita separar la población entre buenos y malos clientes de acuerdo a ciertas características en común."
      ],
      "metadata": {
        "id": "MwcqqBOiNI1B"
      }
    },
    {
      "cell_type": "markdown",
      "source": [
        "III. Plantear pregunta SMART:"
      ],
      "metadata": {
        "id": "uY7l1NW6ODk9"
      }
    },
    {
      "cell_type": "markdown",
      "source": [
        "¿Cómo podemos incrementar la tasa de aprobación de mis clientes espontáneos en un 5% durante los próximos 6 meses, incorporando un modelo de regresión logístico de scoring crediticio?"
      ],
      "metadata": {
        "id": "BE8cKw4aN-Ux"
      }
    },
    {
      "cell_type": "markdown",
      "source": [
        "**Solución punto 2: Análisis Univariado.** ☝"
      ],
      "metadata": {
        "id": "JsShULSaOlhr"
      }
    },
    {
      "cell_type": "markdown",
      "source": [
        "Cargamos la base de datos que contiene 10 variables. A mayor número de rango, la variable toma valores más altos. ej rango 1 de edad significa clientes más jóvenes que el rango 2 de edad. Cuando el dato viene en 0 significa que la variable tomaba el valor nulo.\n",
        "\n",
        "1.Edad: Rangos de edad al momento de realizar la solicitud.\n",
        "\n",
        "2.Exp abierta: Rango de contador de experiencia en cuentas abiertas en productos financieros al momento de realizar la solicitud.\n",
        "\n",
        "3.Exp cerrada: Rango de contador de experiencia en cuentas cerradas en productos financieros al momento de realizar la solicitud.\n",
        "\n",
        "4.Cuotas: Rango de cuota mensual que paga el cliente en el sector financiero al momento de realizar la solicitud.\n",
        "\n",
        "5.Tarjetas sector: Rango de cantidad de tarjetas de crédito que posee el cliente en el sector al momento de hacer la solicitud.\n",
        "\n",
        "6.Nivel riesgo: Rango de nivel de riesgo (Calificación interna) al momento de realizar la solicitud.\n",
        "\n",
        "7.ingresos: Rango de ingreso informado por el cliente al momento de realizar la solicitud.\n",
        "\n",
        "8.Condiciones: Rechazo generado por la entidad al momento de realizar la solicitud.\n",
        "\n",
        "9.mora solicitud: Mora en el sector al momento de realizar la solicitud.\n",
        "\n",
        "10.mora sector: variable objetivo (máxima mora durante los 15 meses siguiente a realizar la solicitud)."
      ],
      "metadata": {
        "id": "tf9kS0qyPpqu"
      }
    },
    {
      "cell_type": "code",
      "source": [
        "## importar dataset usando pandas\n",
        "import pandas as pd\n",
        "df=pd.read_csv(\"Financiera_rechazos.csv\", sep=';')"
      ],
      "metadata": {
        "id": "bHz7hsgZTY4I"
      },
      "execution_count": null,
      "outputs": []
    },
    {
      "cell_type": "code",
      "source": [
        "df.shape"
      ],
      "metadata": {
        "colab": {
          "base_uri": "https://localhost:8080/"
        },
        "id": "1jIxuxjcULEN",
        "outputId": "9c64a3d5-bbdc-419b-9920-b7e7b7ba0917"
      },
      "execution_count": null,
      "outputs": [
        {
          "output_type": "execute_result",
          "data": {
            "text/plain": [
              "(92369, 10)"
            ]
          },
          "metadata": {},
          "execution_count": 58
        }
      ]
    },
    {
      "cell_type": "code",
      "source": [
        "df.describe ()"
      ],
      "metadata": {
        "colab": {
          "base_uri": "https://localhost:8080/",
          "height": 337
        },
        "id": "nsZ3vP5ZURLW",
        "outputId": "8c68b821-0d82-44c0-bc27-b8b010a957b3"
      },
      "execution_count": null,
      "outputs": [
        {
          "output_type": "execute_result",
          "data": {
            "text/plain": [
              "               Edad   Exp abierta   Exp cerrara        Cuotas  \\\n",
              "count  92369.000000  92369.000000  92369.000000  92369.000000   \n",
              "mean       3.327859      1.881649      1.581570      1.712956   \n",
              "std        0.998706      1.203101      1.074118      0.894324   \n",
              "min        0.000000      0.000000      0.000000      0.000000   \n",
              "25%        3.000000      1.000000      1.000000      1.000000   \n",
              "50%        3.000000      1.000000      1.000000      2.000000   \n",
              "75%        4.000000      3.000000      2.000000      2.000000   \n",
              "max        5.000000      4.000000      4.000000      8.000000   \n",
              "\n",
              "       Tarjetas Sector  Nivel riesgo      ingresos   Condiciones  \\\n",
              "count     92369.000000  92369.000000  92369.000000  92369.000000   \n",
              "mean          1.550845      5.128701      3.498446      1.905466   \n",
              "std           0.846820      1.772366      1.305784      0.319459   \n",
              "min           0.000000      0.000000      0.000000      1.000000   \n",
              "25%           1.000000      5.000000      3.000000      2.000000   \n",
              "50%           1.000000      6.000000      3.000000      2.000000   \n",
              "75%           2.000000      6.000000      4.000000      2.000000   \n",
              "max           4.000000      6.000000      7.000000      4.000000   \n",
              "\n",
              "       mora solicitud   mora sector  \n",
              "count    92369.000000  92369.000000  \n",
              "mean         1.255952      1.502225  \n",
              "std          0.469040      0.499998  \n",
              "min          0.000000      1.000000  \n",
              "25%          1.000000      1.000000  \n",
              "50%          1.000000      2.000000  \n",
              "75%          2.000000      2.000000  \n",
              "max          2.000000      2.000000  "
            ],
            "text/html": [
              "\n",
              "  <div id=\"df-12b57e64-fdc3-45b2-87d1-d8b68dc9ac7b\" class=\"colab-df-container\">\n",
              "    <div>\n",
              "<style scoped>\n",
              "    .dataframe tbody tr th:only-of-type {\n",
              "        vertical-align: middle;\n",
              "    }\n",
              "\n",
              "    .dataframe tbody tr th {\n",
              "        vertical-align: top;\n",
              "    }\n",
              "\n",
              "    .dataframe thead th {\n",
              "        text-align: right;\n",
              "    }\n",
              "</style>\n",
              "<table border=\"1\" class=\"dataframe\">\n",
              "  <thead>\n",
              "    <tr style=\"text-align: right;\">\n",
              "      <th></th>\n",
              "      <th>Edad</th>\n",
              "      <th>Exp abierta</th>\n",
              "      <th>Exp cerrara</th>\n",
              "      <th>Cuotas</th>\n",
              "      <th>Tarjetas Sector</th>\n",
              "      <th>Nivel riesgo</th>\n",
              "      <th>ingresos</th>\n",
              "      <th>Condiciones</th>\n",
              "      <th>mora solicitud</th>\n",
              "      <th>mora sector</th>\n",
              "    </tr>\n",
              "  </thead>\n",
              "  <tbody>\n",
              "    <tr>\n",
              "      <th>count</th>\n",
              "      <td>92369.000000</td>\n",
              "      <td>92369.000000</td>\n",
              "      <td>92369.000000</td>\n",
              "      <td>92369.000000</td>\n",
              "      <td>92369.000000</td>\n",
              "      <td>92369.000000</td>\n",
              "      <td>92369.000000</td>\n",
              "      <td>92369.000000</td>\n",
              "      <td>92369.000000</td>\n",
              "      <td>92369.000000</td>\n",
              "    </tr>\n",
              "    <tr>\n",
              "      <th>mean</th>\n",
              "      <td>3.327859</td>\n",
              "      <td>1.881649</td>\n",
              "      <td>1.581570</td>\n",
              "      <td>1.712956</td>\n",
              "      <td>1.550845</td>\n",
              "      <td>5.128701</td>\n",
              "      <td>3.498446</td>\n",
              "      <td>1.905466</td>\n",
              "      <td>1.255952</td>\n",
              "      <td>1.502225</td>\n",
              "    </tr>\n",
              "    <tr>\n",
              "      <th>std</th>\n",
              "      <td>0.998706</td>\n",
              "      <td>1.203101</td>\n",
              "      <td>1.074118</td>\n",
              "      <td>0.894324</td>\n",
              "      <td>0.846820</td>\n",
              "      <td>1.772366</td>\n",
              "      <td>1.305784</td>\n",
              "      <td>0.319459</td>\n",
              "      <td>0.469040</td>\n",
              "      <td>0.499998</td>\n",
              "    </tr>\n",
              "    <tr>\n",
              "      <th>min</th>\n",
              "      <td>0.000000</td>\n",
              "      <td>0.000000</td>\n",
              "      <td>0.000000</td>\n",
              "      <td>0.000000</td>\n",
              "      <td>0.000000</td>\n",
              "      <td>0.000000</td>\n",
              "      <td>0.000000</td>\n",
              "      <td>1.000000</td>\n",
              "      <td>0.000000</td>\n",
              "      <td>1.000000</td>\n",
              "    </tr>\n",
              "    <tr>\n",
              "      <th>25%</th>\n",
              "      <td>3.000000</td>\n",
              "      <td>1.000000</td>\n",
              "      <td>1.000000</td>\n",
              "      <td>1.000000</td>\n",
              "      <td>1.000000</td>\n",
              "      <td>5.000000</td>\n",
              "      <td>3.000000</td>\n",
              "      <td>2.000000</td>\n",
              "      <td>1.000000</td>\n",
              "      <td>1.000000</td>\n",
              "    </tr>\n",
              "    <tr>\n",
              "      <th>50%</th>\n",
              "      <td>3.000000</td>\n",
              "      <td>1.000000</td>\n",
              "      <td>1.000000</td>\n",
              "      <td>2.000000</td>\n",
              "      <td>1.000000</td>\n",
              "      <td>6.000000</td>\n",
              "      <td>3.000000</td>\n",
              "      <td>2.000000</td>\n",
              "      <td>1.000000</td>\n",
              "      <td>2.000000</td>\n",
              "    </tr>\n",
              "    <tr>\n",
              "      <th>75%</th>\n",
              "      <td>4.000000</td>\n",
              "      <td>3.000000</td>\n",
              "      <td>2.000000</td>\n",
              "      <td>2.000000</td>\n",
              "      <td>2.000000</td>\n",
              "      <td>6.000000</td>\n",
              "      <td>4.000000</td>\n",
              "      <td>2.000000</td>\n",
              "      <td>2.000000</td>\n",
              "      <td>2.000000</td>\n",
              "    </tr>\n",
              "    <tr>\n",
              "      <th>max</th>\n",
              "      <td>5.000000</td>\n",
              "      <td>4.000000</td>\n",
              "      <td>4.000000</td>\n",
              "      <td>8.000000</td>\n",
              "      <td>4.000000</td>\n",
              "      <td>6.000000</td>\n",
              "      <td>7.000000</td>\n",
              "      <td>4.000000</td>\n",
              "      <td>2.000000</td>\n",
              "      <td>2.000000</td>\n",
              "    </tr>\n",
              "  </tbody>\n",
              "</table>\n",
              "</div>\n",
              "    <div class=\"colab-df-buttons\">\n",
              "\n",
              "  <div class=\"colab-df-container\">\n",
              "    <button class=\"colab-df-convert\" onclick=\"convertToInteractive('df-12b57e64-fdc3-45b2-87d1-d8b68dc9ac7b')\"\n",
              "            title=\"Convert this dataframe to an interactive table.\"\n",
              "            style=\"display:none;\">\n",
              "\n",
              "  <svg xmlns=\"http://www.w3.org/2000/svg\" height=\"24px\" viewBox=\"0 -960 960 960\">\n",
              "    <path d=\"M120-120v-720h720v720H120Zm60-500h600v-160H180v160Zm220 220h160v-160H400v160Zm0 220h160v-160H400v160ZM180-400h160v-160H180v160Zm440 0h160v-160H620v160ZM180-180h160v-160H180v160Zm440 0h160v-160H620v160Z\"/>\n",
              "  </svg>\n",
              "    </button>\n",
              "\n",
              "  <style>\n",
              "    .colab-df-container {\n",
              "      display:flex;\n",
              "      gap: 12px;\n",
              "    }\n",
              "\n",
              "    .colab-df-convert {\n",
              "      background-color: #E8F0FE;\n",
              "      border: none;\n",
              "      border-radius: 50%;\n",
              "      cursor: pointer;\n",
              "      display: none;\n",
              "      fill: #1967D2;\n",
              "      height: 32px;\n",
              "      padding: 0 0 0 0;\n",
              "      width: 32px;\n",
              "    }\n",
              "\n",
              "    .colab-df-convert:hover {\n",
              "      background-color: #E2EBFA;\n",
              "      box-shadow: 0px 1px 2px rgba(60, 64, 67, 0.3), 0px 1px 3px 1px rgba(60, 64, 67, 0.15);\n",
              "      fill: #174EA6;\n",
              "    }\n",
              "\n",
              "    .colab-df-buttons div {\n",
              "      margin-bottom: 4px;\n",
              "    }\n",
              "\n",
              "    [theme=dark] .colab-df-convert {\n",
              "      background-color: #3B4455;\n",
              "      fill: #D2E3FC;\n",
              "    }\n",
              "\n",
              "    [theme=dark] .colab-df-convert:hover {\n",
              "      background-color: #434B5C;\n",
              "      box-shadow: 0px 1px 3px 1px rgba(0, 0, 0, 0.15);\n",
              "      filter: drop-shadow(0px 1px 2px rgba(0, 0, 0, 0.3));\n",
              "      fill: #FFFFFF;\n",
              "    }\n",
              "  </style>\n",
              "\n",
              "    <script>\n",
              "      const buttonEl =\n",
              "        document.querySelector('#df-12b57e64-fdc3-45b2-87d1-d8b68dc9ac7b button.colab-df-convert');\n",
              "      buttonEl.style.display =\n",
              "        google.colab.kernel.accessAllowed ? 'block' : 'none';\n",
              "\n",
              "      async function convertToInteractive(key) {\n",
              "        const element = document.querySelector('#df-12b57e64-fdc3-45b2-87d1-d8b68dc9ac7b');\n",
              "        const dataTable =\n",
              "          await google.colab.kernel.invokeFunction('convertToInteractive',\n",
              "                                                    [key], {});\n",
              "        if (!dataTable) return;\n",
              "\n",
              "        const docLinkHtml = 'Like what you see? Visit the ' +\n",
              "          '<a target=\"_blank\" href=https://colab.research.google.com/notebooks/data_table.ipynb>data table notebook</a>'\n",
              "          + ' to learn more about interactive tables.';\n",
              "        element.innerHTML = '';\n",
              "        dataTable['output_type'] = 'display_data';\n",
              "        await google.colab.output.renderOutput(dataTable, element);\n",
              "        const docLink = document.createElement('div');\n",
              "        docLink.innerHTML = docLinkHtml;\n",
              "        element.appendChild(docLink);\n",
              "      }\n",
              "    </script>\n",
              "  </div>\n",
              "\n",
              "\n",
              "    <div id=\"df-5415db58-1465-4480-bacb-d4fa891092db\">\n",
              "      <button class=\"colab-df-quickchart\" onclick=\"quickchart('df-5415db58-1465-4480-bacb-d4fa891092db')\"\n",
              "                title=\"Suggest charts\"\n",
              "                style=\"display:none;\">\n",
              "\n",
              "<svg xmlns=\"http://www.w3.org/2000/svg\" height=\"24px\"viewBox=\"0 0 24 24\"\n",
              "     width=\"24px\">\n",
              "    <g>\n",
              "        <path d=\"M19 3H5c-1.1 0-2 .9-2 2v14c0 1.1.9 2 2 2h14c1.1 0 2-.9 2-2V5c0-1.1-.9-2-2-2zM9 17H7v-7h2v7zm4 0h-2V7h2v10zm4 0h-2v-4h2v4z\"/>\n",
              "    </g>\n",
              "</svg>\n",
              "      </button>\n",
              "\n",
              "<style>\n",
              "  .colab-df-quickchart {\n",
              "      --bg-color: #E8F0FE;\n",
              "      --fill-color: #1967D2;\n",
              "      --hover-bg-color: #E2EBFA;\n",
              "      --hover-fill-color: #174EA6;\n",
              "      --disabled-fill-color: #AAA;\n",
              "      --disabled-bg-color: #DDD;\n",
              "  }\n",
              "\n",
              "  [theme=dark] .colab-df-quickchart {\n",
              "      --bg-color: #3B4455;\n",
              "      --fill-color: #D2E3FC;\n",
              "      --hover-bg-color: #434B5C;\n",
              "      --hover-fill-color: #FFFFFF;\n",
              "      --disabled-bg-color: #3B4455;\n",
              "      --disabled-fill-color: #666;\n",
              "  }\n",
              "\n",
              "  .colab-df-quickchart {\n",
              "    background-color: var(--bg-color);\n",
              "    border: none;\n",
              "    border-radius: 50%;\n",
              "    cursor: pointer;\n",
              "    display: none;\n",
              "    fill: var(--fill-color);\n",
              "    height: 32px;\n",
              "    padding: 0;\n",
              "    width: 32px;\n",
              "  }\n",
              "\n",
              "  .colab-df-quickchart:hover {\n",
              "    background-color: var(--hover-bg-color);\n",
              "    box-shadow: 0 1px 2px rgba(60, 64, 67, 0.3), 0 1px 3px 1px rgba(60, 64, 67, 0.15);\n",
              "    fill: var(--button-hover-fill-color);\n",
              "  }\n",
              "\n",
              "  .colab-df-quickchart-complete:disabled,\n",
              "  .colab-df-quickchart-complete:disabled:hover {\n",
              "    background-color: var(--disabled-bg-color);\n",
              "    fill: var(--disabled-fill-color);\n",
              "    box-shadow: none;\n",
              "  }\n",
              "\n",
              "  .colab-df-spinner {\n",
              "    border: 2px solid var(--fill-color);\n",
              "    border-color: transparent;\n",
              "    border-bottom-color: var(--fill-color);\n",
              "    animation:\n",
              "      spin 1s steps(1) infinite;\n",
              "  }\n",
              "\n",
              "  @keyframes spin {\n",
              "    0% {\n",
              "      border-color: transparent;\n",
              "      border-bottom-color: var(--fill-color);\n",
              "      border-left-color: var(--fill-color);\n",
              "    }\n",
              "    20% {\n",
              "      border-color: transparent;\n",
              "      border-left-color: var(--fill-color);\n",
              "      border-top-color: var(--fill-color);\n",
              "    }\n",
              "    30% {\n",
              "      border-color: transparent;\n",
              "      border-left-color: var(--fill-color);\n",
              "      border-top-color: var(--fill-color);\n",
              "      border-right-color: var(--fill-color);\n",
              "    }\n",
              "    40% {\n",
              "      border-color: transparent;\n",
              "      border-right-color: var(--fill-color);\n",
              "      border-top-color: var(--fill-color);\n",
              "    }\n",
              "    60% {\n",
              "      border-color: transparent;\n",
              "      border-right-color: var(--fill-color);\n",
              "    }\n",
              "    80% {\n",
              "      border-color: transparent;\n",
              "      border-right-color: var(--fill-color);\n",
              "      border-bottom-color: var(--fill-color);\n",
              "    }\n",
              "    90% {\n",
              "      border-color: transparent;\n",
              "      border-bottom-color: var(--fill-color);\n",
              "    }\n",
              "  }\n",
              "</style>\n",
              "\n",
              "      <script>\n",
              "        async function quickchart(key) {\n",
              "          const quickchartButtonEl =\n",
              "            document.querySelector('#' + key + ' button');\n",
              "          quickchartButtonEl.disabled = true;  // To prevent multiple clicks.\n",
              "          quickchartButtonEl.classList.add('colab-df-spinner');\n",
              "          try {\n",
              "            const charts = await google.colab.kernel.invokeFunction(\n",
              "                'suggestCharts', [key], {});\n",
              "          } catch (error) {\n",
              "            console.error('Error during call to suggestCharts:', error);\n",
              "          }\n",
              "          quickchartButtonEl.classList.remove('colab-df-spinner');\n",
              "          quickchartButtonEl.classList.add('colab-df-quickchart-complete');\n",
              "        }\n",
              "        (() => {\n",
              "          let quickchartButtonEl =\n",
              "            document.querySelector('#df-5415db58-1465-4480-bacb-d4fa891092db button');\n",
              "          quickchartButtonEl.style.display =\n",
              "            google.colab.kernel.accessAllowed ? 'block' : 'none';\n",
              "        })();\n",
              "      </script>\n",
              "    </div>\n",
              "\n",
              "    </div>\n",
              "  </div>\n"
            ],
            "application/vnd.google.colaboratory.intrinsic+json": {
              "type": "dataframe",
              "summary": "{\n  \"name\": \"df\",\n  \"rows\": 8,\n  \"fields\": [\n    {\n      \"column\": \"Edad\",\n      \"properties\": {\n        \"dtype\": \"number\",\n        \"std\": 32656.397035512302,\n        \"min\": 0.0,\n        \"max\": 92369.0,\n        \"num_unique_values\": 7,\n        \"samples\": [\n          92369.0,\n          3.3278589137048145,\n          4.0\n        ],\n        \"semantic_type\": \"\",\n        \"description\": \"\"\n      }\n    },\n    {\n      \"column\": \"Exp abierta\",\n      \"properties\": {\n        \"dtype\": \"number\",\n        \"std\": 32656.76278802999,\n        \"min\": 0.0,\n        \"max\": 92369.0,\n        \"num_unique_values\": 7,\n        \"samples\": [\n          92369.0,\n          1.8816486050514782,\n          3.0\n        ],\n        \"semantic_type\": \"\",\n        \"description\": \"\"\n      }\n    },\n    {\n      \"column\": \"Exp cerrara\",\n      \"properties\": {\n        \"dtype\": \"number\",\n        \"std\": 32656.834962855166,\n        \"min\": 0.0,\n        \"max\": 92369.0,\n        \"num_unique_values\": 7,\n        \"samples\": [\n          92369.0,\n          1.581569574207797,\n          2.0\n        ],\n        \"semantic_type\": \"\",\n        \"description\": \"\"\n      }\n    },\n    {\n      \"column\": \"Cuotas\",\n      \"properties\": {\n        \"dtype\": \"number\",\n        \"std\": 32656.584940786135,\n        \"min\": 0.0,\n        \"max\": 92369.0,\n        \"num_unique_values\": 7,\n        \"samples\": [\n          92369.0,\n          1.7129556452922516,\n          2.0\n        ],\n        \"semantic_type\": \"\",\n        \"description\": \"\"\n      }\n    },\n    {\n      \"column\": \"Tarjetas Sector\",\n      \"properties\": {\n        \"dtype\": \"number\",\n        \"std\": 32656.847995496024,\n        \"min\": 0.0,\n        \"max\": 92369.0,\n        \"num_unique_values\": 7,\n        \"samples\": [\n          92369.0,\n          1.550844980458812,\n          2.0\n        ],\n        \"semantic_type\": \"\",\n        \"description\": \"\"\n      }\n    },\n    {\n      \"column\": \"Nivel riesgo\",\n      \"properties\": {\n        \"dtype\": \"number\",\n        \"std\": 32655.862979677608,\n        \"min\": 0.0,\n        \"max\": 92369.0,\n        \"num_unique_values\": 6,\n        \"samples\": [\n          92369.0,\n          5.128701187627883,\n          6.0\n        ],\n        \"semantic_type\": \"\",\n        \"description\": \"\"\n      }\n    },\n    {\n      \"column\": \"ingresos\",\n      \"properties\": {\n        \"dtype\": \"number\",\n        \"std\": 32656.271919266146,\n        \"min\": 0.0,\n        \"max\": 92369.0,\n        \"num_unique_values\": 7,\n        \"samples\": [\n          92369.0,\n          3.4984464484837985,\n          4.0\n        ],\n        \"semantic_type\": \"\",\n        \"description\": \"\"\n      }\n    },\n    {\n      \"column\": \"Condiciones\",\n      \"properties\": {\n        \"dtype\": \"number\",\n        \"std\": 32656.70519306624,\n        \"min\": 0.31945902403057735,\n        \"max\": 92369.0,\n        \"num_unique_values\": 6,\n        \"samples\": [\n          92369.0,\n          1.9054661195855753,\n          4.0\n        ],\n        \"semantic_type\": \"\",\n        \"description\": \"\"\n      }\n    },\n    {\n      \"column\": \"mora solicitud\",\n      \"properties\": {\n        \"dtype\": \"number\",\n        \"std\": 32656.982971886948,\n        \"min\": 0.0,\n        \"max\": 92369.0,\n        \"num_unique_values\": 6,\n        \"samples\": [\n          92369.0,\n          1.2559516720977817,\n          2.0\n        ],\n        \"semantic_type\": \"\",\n        \"description\": \"\"\n      }\n    },\n    {\n      \"column\": \"mora sector\",\n      \"properties\": {\n        \"dtype\": \"number\",\n        \"std\": 32656.86795202705,\n        \"min\": 0.4999977568943256,\n        \"max\": 92369.0,\n        \"num_unique_values\": 5,\n        \"samples\": [\n          1.5022247723803441,\n          2.0,\n          0.4999977568943256\n        ],\n        \"semantic_type\": \"\",\n        \"description\": \"\"\n      }\n    }\n  ]\n}"
            }
          },
          "metadata": {},
          "execution_count": 59
        }
      ]
    },
    {
      "cell_type": "code",
      "source": [
        "df.columns"
      ],
      "metadata": {
        "colab": {
          "base_uri": "https://localhost:8080/"
        },
        "id": "PMYq2Ah3Vl2_",
        "outputId": "63831ef9-1eaa-4a32-c545-deba5930f01a"
      },
      "execution_count": null,
      "outputs": [
        {
          "output_type": "execute_result",
          "data": {
            "text/plain": [
              "Index(['Edad', 'Exp abierta', 'Exp cerrara', 'Cuotas', 'Tarjetas Sector',\n",
              "       'Nivel riesgo', 'ingresos', 'Condiciones', 'mora solicitud',\n",
              "       'mora sector'],\n",
              "      dtype='object')"
            ]
          },
          "metadata": {},
          "execution_count": 60
        }
      ]
    },
    {
      "cell_type": "code",
      "source": [
        "## Verifico la correlación de cada variable con la variable predictora\n",
        "\n",
        "df.corr()['mora sector']"
      ],
      "metadata": {
        "colab": {
          "base_uri": "https://localhost:8080/",
          "height": 397
        },
        "id": "VvxnG3soVzRF",
        "outputId": "71485f3f-4ac4-4ef5-c79c-4e50dd106e3c"
      },
      "execution_count": null,
      "outputs": [
        {
          "output_type": "execute_result",
          "data": {
            "text/plain": [
              "Edad               0.039581\n",
              "Exp abierta        0.121902\n",
              "Exp cerrara        0.009515\n",
              "Cuotas             0.102461\n",
              "Tarjetas Sector    0.068150\n",
              "Nivel riesgo       0.049167\n",
              "ingresos          -0.006715\n",
              "Condiciones        0.048016\n",
              "mora solicitud     0.550983\n",
              "mora sector        1.000000\n",
              "Name: mora sector, dtype: float64"
            ],
            "text/html": [
              "<div>\n",
              "<style scoped>\n",
              "    .dataframe tbody tr th:only-of-type {\n",
              "        vertical-align: middle;\n",
              "    }\n",
              "\n",
              "    .dataframe tbody tr th {\n",
              "        vertical-align: top;\n",
              "    }\n",
              "\n",
              "    .dataframe thead th {\n",
              "        text-align: right;\n",
              "    }\n",
              "</style>\n",
              "<table border=\"1\" class=\"dataframe\">\n",
              "  <thead>\n",
              "    <tr style=\"text-align: right;\">\n",
              "      <th></th>\n",
              "      <th>mora sector</th>\n",
              "    </tr>\n",
              "  </thead>\n",
              "  <tbody>\n",
              "    <tr>\n",
              "      <th>Edad</th>\n",
              "      <td>0.039581</td>\n",
              "    </tr>\n",
              "    <tr>\n",
              "      <th>Exp abierta</th>\n",
              "      <td>0.121902</td>\n",
              "    </tr>\n",
              "    <tr>\n",
              "      <th>Exp cerrara</th>\n",
              "      <td>0.009515</td>\n",
              "    </tr>\n",
              "    <tr>\n",
              "      <th>Cuotas</th>\n",
              "      <td>0.102461</td>\n",
              "    </tr>\n",
              "    <tr>\n",
              "      <th>Tarjetas Sector</th>\n",
              "      <td>0.068150</td>\n",
              "    </tr>\n",
              "    <tr>\n",
              "      <th>Nivel riesgo</th>\n",
              "      <td>0.049167</td>\n",
              "    </tr>\n",
              "    <tr>\n",
              "      <th>ingresos</th>\n",
              "      <td>-0.006715</td>\n",
              "    </tr>\n",
              "    <tr>\n",
              "      <th>Condiciones</th>\n",
              "      <td>0.048016</td>\n",
              "    </tr>\n",
              "    <tr>\n",
              "      <th>mora solicitud</th>\n",
              "      <td>0.550983</td>\n",
              "    </tr>\n",
              "    <tr>\n",
              "      <th>mora sector</th>\n",
              "      <td>1.000000</td>\n",
              "    </tr>\n",
              "  </tbody>\n",
              "</table>\n",
              "</div><br><label><b>dtype:</b> float64</label>"
            ]
          },
          "metadata": {},
          "execution_count": 61
        }
      ]
    },
    {
      "cell_type": "markdown",
      "source": [
        "Para este ejercicio voy a escoger la variable cuotas. La variable mora solicitud tiene mejor correlación pero esta variable puede tener problemas de causalidad con la variable objetivo dado que esa mora al momento de la solicitud puede ser la misma mora de la variable resultado a lo largo del tiempo. Para ajustar esta parte debemos separar la población que no tenía mora al momento de la solicitud de la población que si tenía mora al momento de la solicitud.\n",
        "\n",
        "La variable cuotas puede influir de manera importante en la mora de los clientes. Al tener que pagar una cuota muy alta, el cliente puede verse en situaciones de poca liquidez, generando entrada en mora en los pagos de sus obligaciones."
      ],
      "metadata": {
        "id": "AL9gXXxSWJ6W"
      }
    },
    {
      "cell_type": "code",
      "source": [
        "## Estadísticas descriptivas de cuotas\n",
        "\n",
        "df[\"Cuotas\"].describe()"
      ],
      "metadata": {
        "colab": {
          "base_uri": "https://localhost:8080/",
          "height": 335
        },
        "id": "onyWhBWCbJ45",
        "outputId": "04375d04-d0cd-43d0-cfe3-d5af355c91b3"
      },
      "execution_count": null,
      "outputs": [
        {
          "output_type": "execute_result",
          "data": {
            "text/plain": [
              "count    92369.000000\n",
              "mean         1.712956\n",
              "std          0.894324\n",
              "min          0.000000\n",
              "25%          1.000000\n",
              "50%          2.000000\n",
              "75%          2.000000\n",
              "max          8.000000\n",
              "Name: Cuotas, dtype: float64"
            ],
            "text/html": [
              "<div>\n",
              "<style scoped>\n",
              "    .dataframe tbody tr th:only-of-type {\n",
              "        vertical-align: middle;\n",
              "    }\n",
              "\n",
              "    .dataframe tbody tr th {\n",
              "        vertical-align: top;\n",
              "    }\n",
              "\n",
              "    .dataframe thead th {\n",
              "        text-align: right;\n",
              "    }\n",
              "</style>\n",
              "<table border=\"1\" class=\"dataframe\">\n",
              "  <thead>\n",
              "    <tr style=\"text-align: right;\">\n",
              "      <th></th>\n",
              "      <th>Cuotas</th>\n",
              "    </tr>\n",
              "  </thead>\n",
              "  <tbody>\n",
              "    <tr>\n",
              "      <th>count</th>\n",
              "      <td>92369.000000</td>\n",
              "    </tr>\n",
              "    <tr>\n",
              "      <th>mean</th>\n",
              "      <td>1.712956</td>\n",
              "    </tr>\n",
              "    <tr>\n",
              "      <th>std</th>\n",
              "      <td>0.894324</td>\n",
              "    </tr>\n",
              "    <tr>\n",
              "      <th>min</th>\n",
              "      <td>0.000000</td>\n",
              "    </tr>\n",
              "    <tr>\n",
              "      <th>25%</th>\n",
              "      <td>1.000000</td>\n",
              "    </tr>\n",
              "    <tr>\n",
              "      <th>50%</th>\n",
              "      <td>2.000000</td>\n",
              "    </tr>\n",
              "    <tr>\n",
              "      <th>75%</th>\n",
              "      <td>2.000000</td>\n",
              "    </tr>\n",
              "    <tr>\n",
              "      <th>max</th>\n",
              "      <td>8.000000</td>\n",
              "    </tr>\n",
              "  </tbody>\n",
              "</table>\n",
              "</div><br><label><b>dtype:</b> float64</label>"
            ]
          },
          "metadata": {},
          "execution_count": 62
        }
      ]
    },
    {
      "cell_type": "code",
      "source": [
        "## histograma cuotas\n",
        "\n",
        "df[\"Cuotas\"].hist()"
      ],
      "metadata": {
        "colab": {
          "base_uri": "https://localhost:8080/",
          "height": 447
        },
        "id": "mYn3XZXLcUiI",
        "outputId": "ca845831-2c71-4d53-de13-ec1cbd8c0dc2"
      },
      "execution_count": null,
      "outputs": [
        {
          "output_type": "execute_result",
          "data": {
            "text/plain": [
              "<Axes: >"
            ]
          },
          "metadata": {},
          "execution_count": 63
        },
        {
          "output_type": "display_data",
          "data": {
            "text/plain": [
              "<Figure size 640x480 with 1 Axes>"
            ],
            "image/png": "[encoded data removed]"
          },
          "metadata": {}
        }
      ]
    },
    {
      "cell_type": "code",
      "source": [
        "## dispersión\n",
        "\n",
        "import numpy as np\n",
        "import pandas as pd\n",
        "import matplotlib.pyplot as plt\n",
        "import seaborn as sns\n",
        "import statsmodels.api as sm\n",
        "import pathlib as pl\n",
        "\n",
        "\n",
        "sns.scatterplot (x=\"Cuotas\",y=\"mora sector\",data=df)\n",
        "plt.show()\n"
      ],
      "metadata": {
        "colab": {
          "base_uri": "https://localhost:8080/",
          "height": 449
        },
        "id": "29N5A0FFboMP",
        "outputId": "b6f99894-2648-4507-9fc3-042888be962f"
      },
      "execution_count": null,
      "outputs": [
        {
          "output_type": "display_data",
          "data": {
            "text/plain": [
              "<Figure size 640x480 with 1 Axes>"
            ],
            "image/png": "[encoded data removed]"
          },
          "metadata": {}
        }
      ]
    },
    {
      "cell_type": "code",
      "source": [
        "## Gráfico de cajas y bigotes\n",
        "\n",
        "plt.figure(figsize=(5,4))\n",
        "sns.boxplot(x='mora sector',y='Cuotas',data=df)\n",
        "plt.show()\n"
      ],
      "metadata": {
        "colab": {
          "base_uri": "https://localhost:8080/",
          "height": 388
        },
        "id": "W43iZ8vXboXe",
        "outputId": "b19c9bc2-82ee-4613-8e19-5ffa4807f83f"
      },
      "execution_count": null,
      "outputs": [
        {
          "output_type": "display_data",
          "data": {
            "text/plain": [
              "<Figure size 500x400 with 1 Axes>"
            ],
            "image/png": "[encoded data removed]"
          },
          "metadata": {}
        }
      ]
    },
    {
      "cell_type": "code",
      "source": [
        "## Histograma comparativo\n",
        "\n",
        "sns.histplot(df, x=\"Cuotas\", hue=\"mora sector\", multiple=\"dodge\",bins = 10)\n",
        "plt.show()"
      ],
      "metadata": {
        "colab": {
          "base_uri": "https://localhost:8080/",
          "height": 449
        },
        "id": "BzdrKdrReNbi",
        "outputId": "f71216a1-c007-4918-c87a-0c86e002f700"
      },
      "execution_count": null,
      "outputs": [
        {
          "output_type": "display_data",
          "data": {
            "text/plain": [
              "<Figure size 640x480 with 1 Axes>"
            ],
            "image/png": "[encoded data removed]"
          },
          "metadata": {}
        }
      ]
    },
    {
      "cell_type": "code",
      "source": [
        "### Frecuencias cruzadas\n",
        "pd.crosstab(df[\"mora sector\"],df[\"Cuotas\"])"
      ],
      "metadata": {
        "colab": {
          "base_uri": "https://localhost:8080/",
          "height": 143
        },
        "id": "7ysyFfPaiVww",
        "outputId": "e912994e-f940-42bd-8a7d-08789b52fffc"
      },
      "execution_count": null,
      "outputs": [
        {
          "output_type": "execute_result",
          "data": {
            "text/plain": [
              "Cuotas         0      1      2     3     4    5    6   7  8\n",
              "mora sector                                                \n",
              "1            642  23057  18061  2580   882  523  178  50  6\n",
              "2            613  17568  22233  3595  1377  717  229  54  4"
            ],
            "text/html": [
              "\n",
              "  <div id=\"df-23e1b44d-11e4-463e-be28-45125e4832a9\" class=\"colab-df-container\">\n",
              "    <div>\n",
              "<style scoped>\n",
              "    .dataframe tbody tr th:only-of-type {\n",
              "        vertical-align: middle;\n",
              "    }\n",
              "\n",
              "    .dataframe tbody tr th {\n",
              "        vertical-align: top;\n",
              "    }\n",
              "\n",
              "    .dataframe thead th {\n",
              "        text-align: right;\n",
              "    }\n",
              "</style>\n",
              "<table border=\"1\" class=\"dataframe\">\n",
              "  <thead>\n",
              "    <tr style=\"text-align: right;\">\n",
              "      <th>Cuotas</th>\n",
              "      <th>0</th>\n",
              "      <th>1</th>\n",
              "      <th>2</th>\n",
              "      <th>3</th>\n",
              "      <th>4</th>\n",
              "      <th>5</th>\n",
              "      <th>6</th>\n",
              "      <th>7</th>\n",
              "      <th>8</th>\n",
              "    </tr>\n",
              "    <tr>\n",
              "      <th>mora sector</th>\n",
              "      <th></th>\n",
              "      <th></th>\n",
              "      <th></th>\n",
              "      <th></th>\n",
              "      <th></th>\n",
              "      <th></th>\n",
              "      <th></th>\n",
              "      <th></th>\n",
              "      <th></th>\n",
              "    </tr>\n",
              "  </thead>\n",
              "  <tbody>\n",
              "    <tr>\n",
              "      <th>1</th>\n",
              "      <td>642</td>\n",
              "      <td>23057</td>\n",
              "      <td>18061</td>\n",
              "      <td>2580</td>\n",
              "      <td>882</td>\n",
              "      <td>523</td>\n",
              "      <td>178</td>\n",
              "      <td>50</td>\n",
              "      <td>6</td>\n",
              "    </tr>\n",
              "    <tr>\n",
              "      <th>2</th>\n",
              "      <td>613</td>\n",
              "      <td>17568</td>\n",
              "      <td>22233</td>\n",
              "      <td>3595</td>\n",
              "      <td>1377</td>\n",
              "      <td>717</td>\n",
              "      <td>229</td>\n",
              "      <td>54</td>\n",
              "      <td>4</td>\n",
              "    </tr>\n",
              "  </tbody>\n",
              "</table>\n",
              "</div>\n",
              "    <div class=\"colab-df-buttons\">\n",
              "\n",
              "  <div class=\"colab-df-container\">\n",
              "    <button class=\"colab-df-convert\" onclick=\"convertToInteractive('df-23e1b44d-11e4-463e-be28-45125e4832a9')\"\n",
              "            title=\"Convert this dataframe to an interactive table.\"\n",
              "            style=\"display:none;\">\n",
              "\n",
              "  <svg xmlns=\"http://www.w3.org/2000/svg\" height=\"24px\" viewBox=\"0 -960 960 960\">\n",
              "    <path d=\"M120-120v-720h720v720H120Zm60-500h600v-160H180v160Zm220 220h160v-160H400v160Zm0 220h160v-160H400v160ZM180-400h160v-160H180v160Zm440 0h160v-160H620v160ZM180-180h160v-160H180v160Zm440 0h160v-160H620v160Z\"/>\n",
              "  </svg>\n",
              "    </button>\n",
              "\n",
              "  <style>\n",
              "    .colab-df-container {\n",
              "      display:flex;\n",
              "      gap: 12px;\n",
              "    }\n",
              "\n",
              "    .colab-df-convert {\n",
              "      background-color: #E8F0FE;\n",
              "      border: none;\n",
              "      border-radius: 50%;\n",
              "      cursor: pointer;\n",
              "      display: none;\n",
              "      fill: #1967D2;\n",
              "      height: 32px;\n",
              "      padding: 0 0 0 0;\n",
              "      width: 32px;\n",
              "    }\n",
              "\n",
              "    .colab-df-convert:hover {\n",
              "      background-color: #E2EBFA;\n",
              "      box-shadow: 0px 1px 2px rgba(60, 64, 67, 0.3), 0px 1px 3px 1px rgba(60, 64, 67, 0.15);\n",
              "      fill: #174EA6;\n",
              "    }\n",
              "\n",
              "    .colab-df-buttons div {\n",
              "      margin-bottom: 4px;\n",
              "    }\n",
              "\n",
              "    [theme=dark] .colab-df-convert {\n",
              "      background-color: #3B4455;\n",
              "      fill: #D2E3FC;\n",
              "    }\n",
              "\n",
              "    [theme=dark] .colab-df-convert:hover {\n",
              "      background-color: #434B5C;\n",
              "      box-shadow: 0px 1px 3px 1px rgba(0, 0, 0, 0.15);\n",
              "      filter: drop-shadow(0px 1px 2px rgba(0, 0, 0, 0.3));\n",
              "      fill: #FFFFFF;\n",
              "    }\n",
              "  </style>\n",
              "\n",
              "    <script>\n",
              "      const buttonEl =\n",
              "        document.querySelector('#df-23e1b44d-11e4-463e-be28-45125e4832a9 button.colab-df-convert');\n",
              "      buttonEl.style.display =\n",
              "        google.colab.kernel.accessAllowed ? 'block' : 'none';\n",
              "\n",
              "      async function convertToInteractive(key) {\n",
              "        const element = document.querySelector('#df-23e1b44d-11e4-463e-be28-45125e4832a9');\n",
              "        const dataTable =\n",
              "          await google.colab.kernel.invokeFunction('convertToInteractive',\n",
              "                                                    [key], {});\n",
              "        if (!dataTable) return;\n",
              "\n",
              "        const docLinkHtml = 'Like what you see? Visit the ' +\n",
              "          '<a target=\"_blank\" href=https://colab.research.google.com/notebooks/data_table.ipynb>data table notebook</a>'\n",
              "          + ' to learn more about interactive tables.';\n",
              "        element.innerHTML = '';\n",
              "        dataTable['output_type'] = 'display_data';\n",
              "        await google.colab.output.renderOutput(dataTable, element);\n",
              "        const docLink = document.createElement('div');\n",
              "        docLink.innerHTML = docLinkHtml;\n",
              "        element.appendChild(docLink);\n",
              "      }\n",
              "    </script>\n",
              "  </div>\n",
              "\n",
              "\n",
              "    <div id=\"df-b5118651-f182-42de-8e46-c589f4590c98\">\n",
              "      <button class=\"colab-df-quickchart\" onclick=\"quickchart('df-b5118651-f182-42de-8e46-c589f4590c98')\"\n",
              "                title=\"Suggest charts\"\n",
              "                style=\"display:none;\">\n",
              "\n",
              "<svg xmlns=\"http://www.w3.org/2000/svg\" height=\"24px\"viewBox=\"0 0 24 24\"\n",
              "     width=\"24px\">\n",
              "    <g>\n",
              "        <path d=\"M19 3H5c-1.1 0-2 .9-2 2v14c0 1.1.9 2 2 2h14c1.1 0 2-.9 2-2V5c0-1.1-.9-2-2-2zM9 17H7v-7h2v7zm4 0h-2V7h2v10zm4 0h-2v-4h2v4z\"/>\n",
              "    </g>\n",
              "</svg>\n",
              "      </button>\n",
              "\n",
              "<style>\n",
              "  .colab-df-quickchart {\n",
              "      --bg-color: #E8F0FE;\n",
              "      --fill-color: #1967D2;\n",
              "      --hover-bg-color: #E2EBFA;\n",
              "      --hover-fill-color: #174EA6;\n",
              "      --disabled-fill-color: #AAA;\n",
              "      --disabled-bg-color: #DDD;\n",
              "  }\n",
              "\n",
              "  [theme=dark] .colab-df-quickchart {\n",
              "      --bg-color: #3B4455;\n",
              "      --fill-color: #D2E3FC;\n",
              "      --hover-bg-color: #434B5C;\n",
              "      --hover-fill-color: #FFFFFF;\n",
              "      --disabled-bg-color: #3B4455;\n",
              "      --disabled-fill-color: #666;\n",
              "  }\n",
              "\n",
              "  .colab-df-quickchart {\n",
              "    background-color: var(--bg-color);\n",
              "    border: none;\n",
              "    border-radius: 50%;\n",
              "    cursor: pointer;\n",
              "    display: none;\n",
              "    fill: var(--fill-color);\n",
              "    height: 32px;\n",
              "    padding: 0;\n",
              "    width: 32px;\n",
              "  }\n",
              "\n",
              "  .colab-df-quickchart:hover {\n",
              "    background-color: var(--hover-bg-color);\n",
              "    box-shadow: 0 1px 2px rgba(60, 64, 67, 0.3), 0 1px 3px 1px rgba(60, 64, 67, 0.15);\n",
              "    fill: var(--button-hover-fill-color);\n",
              "  }\n",
              "\n",
              "  .colab-df-quickchart-complete:disabled,\n",
              "  .colab-df-quickchart-complete:disabled:hover {\n",
              "    background-color: var(--disabled-bg-color);\n",
              "    fill: var(--disabled-fill-color);\n",
              "    box-shadow: none;\n",
              "  }\n",
              "\n",
              "  .colab-df-spinner {\n",
              "    border: 2px solid var(--fill-color);\n",
              "    border-color: transparent;\n",
              "    border-bottom-color: var(--fill-color);\n",
              "    animation:\n",
              "      spin 1s steps(1) infinite;\n",
              "  }\n",
              "\n",
              "  @keyframes spin {\n",
              "    0% {\n",
              "      border-color: transparent;\n",
              "      border-bottom-color: var(--fill-color);\n",
              "      border-left-color: var(--fill-color);\n",
              "    }\n",
              "    20% {\n",
              "      border-color: transparent;\n",
              "      border-left-color: var(--fill-color);\n",
              "      border-top-color: var(--fill-color);\n",
              "    }\n",
              "    30% {\n",
              "      border-color: transparent;\n",
              "      border-left-color: var(--fill-color);\n",
              "      border-top-color: var(--fill-color);\n",
              "      border-right-color: var(--fill-color);\n",
              "    }\n",
              "    40% {\n",
              "      border-color: transparent;\n",
              "      border-right-color: var(--fill-color);\n",
              "      border-top-color: var(--fill-color);\n",
              "    }\n",
              "    60% {\n",
              "      border-color: transparent;\n",
              "      border-right-color: var(--fill-color);\n",
              "    }\n",
              "    80% {\n",
              "      border-color: transparent;\n",
              "      border-right-color: var(--fill-color);\n",
              "      border-bottom-color: var(--fill-color);\n",
              "    }\n",
              "    90% {\n",
              "      border-color: transparent;\n",
              "      border-bottom-color: var(--fill-color);\n",
              "    }\n",
              "  }\n",
              "</style>\n",
              "\n",
              "      <script>\n",
              "        async function quickchart(key) {\n",
              "          const quickchartButtonEl =\n",
              "            document.querySelector('#' + key + ' button');\n",
              "          quickchartButtonEl.disabled = true;  // To prevent multiple clicks.\n",
              "          quickchartButtonEl.classList.add('colab-df-spinner');\n",
              "          try {\n",
              "            const charts = await google.colab.kernel.invokeFunction(\n",
              "                'suggestCharts', [key], {});\n",
              "          } catch (error) {\n",
              "            console.error('Error during call to suggestCharts:', error);\n",
              "          }\n",
              "          quickchartButtonEl.classList.remove('colab-df-spinner');\n",
              "          quickchartButtonEl.classList.add('colab-df-quickchart-complete');\n",
              "        }\n",
              "        (() => {\n",
              "          let quickchartButtonEl =\n",
              "            document.querySelector('#df-b5118651-f182-42de-8e46-c589f4590c98 button');\n",
              "          quickchartButtonEl.style.display =\n",
              "            google.colab.kernel.accessAllowed ? 'block' : 'none';\n",
              "        })();\n",
              "      </script>\n",
              "    </div>\n",
              "\n",
              "    </div>\n",
              "  </div>\n"
            ],
            "application/vnd.google.colaboratory.intrinsic+json": {
              "type": "dataframe",
              "summary": "{\n  \"name\": \"pd\",\n  \"rows\": 2,\n  \"fields\": [\n    {\n      \"column\": \"mora sector\",\n      \"properties\": {\n        \"dtype\": \"number\",\n        \"std\": 0,\n        \"min\": 1,\n        \"max\": 2,\n        \"num_unique_values\": 2,\n        \"samples\": [\n          2,\n          1\n        ],\n        \"semantic_type\": \"\",\n        \"description\": \"\"\n      }\n    },\n    {\n      \"column\": 0,\n      \"properties\": {\n        \"dtype\": \"number\",\n        \"std\": 20,\n        \"min\": 613,\n        \"max\": 642,\n        \"num_unique_values\": 2,\n        \"samples\": [\n          613,\n          642\n        ],\n        \"semantic_type\": \"\",\n        \"description\": \"\"\n      }\n    },\n    {\n      \"column\": 1,\n      \"properties\": {\n        \"dtype\": \"number\",\n        \"std\": 3881,\n        \"min\": 17568,\n        \"max\": 23057,\n        \"num_unique_values\": 2,\n        \"samples\": [\n          17568,\n          23057\n        ],\n        \"semantic_type\": \"\",\n        \"description\": \"\"\n      }\n    },\n    {\n      \"column\": 2,\n      \"properties\": {\n        \"dtype\": \"number\",\n        \"std\": 2950,\n        \"min\": 18061,\n        \"max\": 22233,\n        \"num_unique_values\": 2,\n        \"samples\": [\n          22233,\n          18061\n        ],\n        \"semantic_type\": \"\",\n        \"description\": \"\"\n      }\n    },\n    {\n      \"column\": 3,\n      \"properties\": {\n        \"dtype\": \"number\",\n        \"std\": 717,\n        \"min\": 2580,\n        \"max\": 3595,\n        \"num_unique_values\": 2,\n        \"samples\": [\n          3595,\n          2580\n        ],\n        \"semantic_type\": \"\",\n        \"description\": \"\"\n      }\n    },\n    {\n      \"column\": 4,\n      \"properties\": {\n        \"dtype\": \"number\",\n        \"std\": 350,\n        \"min\": 882,\n        \"max\": 1377,\n        \"num_unique_values\": 2,\n        \"samples\": [\n          1377,\n          882\n        ],\n        \"semantic_type\": \"\",\n        \"description\": \"\"\n      }\n    },\n    {\n      \"column\": 5,\n      \"properties\": {\n        \"dtype\": \"number\",\n        \"std\": 137,\n        \"min\": 523,\n        \"max\": 717,\n        \"num_unique_values\": 2,\n        \"samples\": [\n          717,\n          523\n        ],\n        \"semantic_type\": \"\",\n        \"description\": \"\"\n      }\n    },\n    {\n      \"column\": 6,\n      \"properties\": {\n        \"dtype\": \"number\",\n        \"std\": 36,\n        \"min\": 178,\n        \"max\": 229,\n        \"num_unique_values\": 2,\n        \"samples\": [\n          229,\n          178\n        ],\n        \"semantic_type\": \"\",\n        \"description\": \"\"\n      }\n    },\n    {\n      \"column\": 7,\n      \"properties\": {\n        \"dtype\": \"number\",\n        \"std\": 2,\n        \"min\": 50,\n        \"max\": 54,\n        \"num_unique_values\": 2,\n        \"samples\": [\n          54,\n          50\n        ],\n        \"semantic_type\": \"\",\n        \"description\": \"\"\n      }\n    },\n    {\n      \"column\": 8,\n      \"properties\": {\n        \"dtype\": \"number\",\n        \"std\": 1,\n        \"min\": 4,\n        \"max\": 6,\n        \"num_unique_values\": 2,\n        \"samples\": [\n          4,\n          6\n        ],\n        \"semantic_type\": \"\",\n        \"description\": \"\"\n      }\n    }\n  ]\n}"
            }
          },
          "metadata": {},
          "execution_count": 67
        }
      ]
    },
    {
      "cell_type": "markdown",
      "source": [
        "***Interpretación de resultados***"
      ],
      "metadata": {
        "id": "rspMuMsve2Oh"
      }
    },
    {
      "cell_type": "markdown",
      "source": [
        "A pesar de tener la segunda correlación más alta, usar como única variable las cuotas en términos de rangos, no discriminan el desempeño futuro del cliente.\n",
        "\n",
        "En el gráfico de dispersión se evidencia que no existe algún tipo de relación lineal entre las variables cuotas y mora sector. Esto quiere decir que el nivel de cuotas no determina el desempeño del cliente en el sector.\n",
        "\n",
        "Lo que podemos observar al usar el gráfico de cajas y bigotes es que para ambos grupos de mora sector, la distribución de cuotas es similar. En ambos casos tenemos presencia de outliers y la mediana está entre 1 y 2 en ambos casos. Esto nos dice que no hay diferencia clara entre quienes caen en mora y los que no con base en las cuotas.\n",
        "\n",
        "En el histograma comparativo los valores que toma mora sector siguen casi la misma distribución."
      ],
      "metadata": {
        "id": "-kpaS5b0e-7s"
      }
    },
    {
      "cell_type": "markdown",
      "source": [
        "***Conclusiones***"
      ],
      "metadata": {
        "id": "iouyrjbte---"
      }
    },
    {
      "cell_type": "markdown",
      "source": [
        "Al realizar un rápido analisis con diferentes herramientas, evidenciamos que utilizando como variable explicativa solo la variable cuotas, no logramos determinar algún tipo de relación entre esta y el desempeño futuro de los clientes. El pagar cuotas altas o cuotas bajas no determina el comportamiento del cliente.\n",
        "\n",
        "Al determinar que la variable resultado toma valores categóricos entre 1 y 2 donde 1 es que el cliente no cae en mora y 2 es que el cliente si cae en mora, podemos pensar en aplicar un modelo de regresión logístico que nos ayudará a verificar la capacidad predictiva de la variable."
      ],
      "metadata": {
        "id": "D2YLchwie_PD"
      }
    },
    {
      "cell_type": "markdown",
      "source": [
        "**Solución punto 3: Análisis Bivariado.** 🤞"
      ],
      "metadata": {
        "id": "0mD_06ZHjbr0"
      }
    },
    {
      "cell_type": "code",
      "source": [
        "## recordamos las correlaciones de variables con variable objetivo\n",
        "\n",
        "df.corr()['mora sector']"
      ],
      "metadata": {
        "colab": {
          "base_uri": "https://localhost:8080/",
          "height": 397
        },
        "id": "HiuV7l6Sj6Ed",
        "outputId": "46f18cdd-e857-4bf1-cace-96ef1a50cbbb"
      },
      "execution_count": null,
      "outputs": [
        {
          "output_type": "execute_result",
          "data": {
            "text/plain": [
              "Edad               0.039581\n",
              "Exp abierta        0.121902\n",
              "Exp cerrara        0.009515\n",
              "Cuotas             0.102461\n",
              "Tarjetas Sector    0.068150\n",
              "Nivel riesgo       0.049167\n",
              "ingresos          -0.006715\n",
              "Condiciones        0.048016\n",
              "mora solicitud     0.550983\n",
              "mora sector        1.000000\n",
              "Name: mora sector, dtype: float64"
            ],
            "text/html": [
              "<div>\n",
              "<style scoped>\n",
              "    .dataframe tbody tr th:only-of-type {\n",
              "        vertical-align: middle;\n",
              "    }\n",
              "\n",
              "    .dataframe tbody tr th {\n",
              "        vertical-align: top;\n",
              "    }\n",
              "\n",
              "    .dataframe thead th {\n",
              "        text-align: right;\n",
              "    }\n",
              "</style>\n",
              "<table border=\"1\" class=\"dataframe\">\n",
              "  <thead>\n",
              "    <tr style=\"text-align: right;\">\n",
              "      <th></th>\n",
              "      <th>mora sector</th>\n",
              "    </tr>\n",
              "  </thead>\n",
              "  <tbody>\n",
              "    <tr>\n",
              "      <th>Edad</th>\n",
              "      <td>0.039581</td>\n",
              "    </tr>\n",
              "    <tr>\n",
              "      <th>Exp abierta</th>\n",
              "      <td>0.121902</td>\n",
              "    </tr>\n",
              "    <tr>\n",
              "      <th>Exp cerrara</th>\n",
              "      <td>0.009515</td>\n",
              "    </tr>\n",
              "    <tr>\n",
              "      <th>Cuotas</th>\n",
              "      <td>0.102461</td>\n",
              "    </tr>\n",
              "    <tr>\n",
              "      <th>Tarjetas Sector</th>\n",
              "      <td>0.068150</td>\n",
              "    </tr>\n",
              "    <tr>\n",
              "      <th>Nivel riesgo</th>\n",
              "      <td>0.049167</td>\n",
              "    </tr>\n",
              "    <tr>\n",
              "      <th>ingresos</th>\n",
              "      <td>-0.006715</td>\n",
              "    </tr>\n",
              "    <tr>\n",
              "      <th>Condiciones</th>\n",
              "      <td>0.048016</td>\n",
              "    </tr>\n",
              "    <tr>\n",
              "      <th>mora solicitud</th>\n",
              "      <td>0.550983</td>\n",
              "    </tr>\n",
              "    <tr>\n",
              "      <th>mora sector</th>\n",
              "      <td>1.000000</td>\n",
              "    </tr>\n",
              "  </tbody>\n",
              "</table>\n",
              "</div><br><label><b>dtype:</b> float64</label>"
            ]
          },
          "metadata": {},
          "execution_count": 68
        }
      ]
    },
    {
      "cell_type": "markdown",
      "source": [
        "Para este análisis bivariado, he decidido trabajar con las variables exp abierta y tarjetas en el sector. Por conocimiento del dominio, podemos asumir que un cliente con mayor experiencia en tenencia de cuentas abiertas con el sector y que además posea un mayor número de tarjetas suele desempeñarse de una mejor manera en comparación a clientes con poca experiencia o poco manejo de productos financieros."
      ],
      "metadata": {
        "id": "e0vCQ9t_kJq7"
      }
    },
    {
      "cell_type": "code",
      "source": [
        "### Frecuencias cruzadas\n",
        "pd.crosstab([df[\"mora sector\"],df[\"Exp abierta\"]],df[\"Tarjetas Sector\"])\n"
      ],
      "metadata": {
        "colab": {
          "base_uri": "https://localhost:8080/",
          "height": 394
        },
        "id": "com1SVZpkJKX",
        "outputId": "651fc97b-537e-499c-df54-d1a4ae006b8d"
      },
      "execution_count": null,
      "outputs": [
        {
          "output_type": "execute_result",
          "data": {
            "text/plain": [
              "Tarjetas Sector            0      1     2     3    4\n",
              "mora sector Exp abierta                             \n",
              "1           0            642      0     0     0    0\n",
              "            1              0  25601  2575   473   24\n",
              "            2              0   1936  2574  1407  163\n",
              "            3              0    903  1261  1058  204\n",
              "            4              0   1364  2515  2507  772\n",
              "2           0            613      0     0     0    0\n",
              "            1              0  20039  2344   606   41\n",
              "            2              0   2622  2918  1772  232\n",
              "            3              0   1439  1667  1426  335\n",
              "            4              0   2784  3589  3007  956"
            ],
            "text/html": [
              "\n",
              "  <div id=\"df-283a8add-7078-4f7e-a6bc-24776ea02083\" class=\"colab-df-container\">\n",
              "    <div>\n",
              "<style scoped>\n",
              "    .dataframe tbody tr th:only-of-type {\n",
              "        vertical-align: middle;\n",
              "    }\n",
              "\n",
              "    .dataframe tbody tr th {\n",
              "        vertical-align: top;\n",
              "    }\n",
              "\n",
              "    .dataframe thead th {\n",
              "        text-align: right;\n",
              "    }\n",
              "</style>\n",
              "<table border=\"1\" class=\"dataframe\">\n",
              "  <thead>\n",
              "    <tr style=\"text-align: right;\">\n",
              "      <th></th>\n",
              "      <th>Tarjetas Sector</th>\n",
              "      <th>0</th>\n",
              "      <th>1</th>\n",
              "      <th>2</th>\n",
              "      <th>3</th>\n",
              "      <th>4</th>\n",
              "    </tr>\n",
              "    <tr>\n",
              "      <th>mora sector</th>\n",
              "      <th>Exp abierta</th>\n",
              "      <th></th>\n",
              "      <th></th>\n",
              "      <th></th>\n",
              "      <th></th>\n",
              "      <th></th>\n",
              "    </tr>\n",
              "  </thead>\n",
              "  <tbody>\n",
              "    <tr>\n",
              "      <th rowspan=\"5\" valign=\"top\">1</th>\n",
              "      <th>0</th>\n",
              "      <td>642</td>\n",
              "      <td>0</td>\n",
              "      <td>0</td>\n",
              "      <td>0</td>\n",
              "      <td>0</td>\n",
              "    </tr>\n",
              "    <tr>\n",
              "      <th>1</th>\n",
              "      <td>0</td>\n",
              "      <td>25601</td>\n",
              "      <td>2575</td>\n",
              "      <td>473</td>\n",
              "      <td>24</td>\n",
              "    </tr>\n",
              "    <tr>\n",
              "      <th>2</th>\n",
              "      <td>0</td>\n",
              "      <td>1936</td>\n",
              "      <td>2574</td>\n",
              "      <td>1407</td>\n",
              "      <td>163</td>\n",
              "    </tr>\n",
              "    <tr>\n",
              "      <th>3</th>\n",
              "      <td>0</td>\n",
              "      <td>903</td>\n",
              "      <td>1261</td>\n",
              "      <td>1058</td>\n",
              "      <td>204</td>\n",
              "    </tr>\n",
              "    <tr>\n",
              "      <th>4</th>\n",
              "      <td>0</td>\n",
              "      <td>1364</td>\n",
              "      <td>2515</td>\n",
              "      <td>2507</td>\n",
              "      <td>772</td>\n",
              "    </tr>\n",
              "    <tr>\n",
              "      <th rowspan=\"5\" valign=\"top\">2</th>\n",
              "      <th>0</th>\n",
              "      <td>613</td>\n",
              "      <td>0</td>\n",
              "      <td>0</td>\n",
              "      <td>0</td>\n",
              "      <td>0</td>\n",
              "    </tr>\n",
              "    <tr>\n",
              "      <th>1</th>\n",
              "      <td>0</td>\n",
              "      <td>20039</td>\n",
              "      <td>2344</td>\n",
              "      <td>606</td>\n",
              "      <td>41</td>\n",
              "    </tr>\n",
              "    <tr>\n",
              "      <th>2</th>\n",
              "      <td>0</td>\n",
              "      <td>2622</td>\n",
              "      <td>2918</td>\n",
              "      <td>1772</td>\n",
              "      <td>232</td>\n",
              "    </tr>\n",
              "    <tr>\n",
              "      <th>3</th>\n",
              "      <td>0</td>\n",
              "      <td>1439</td>\n",
              "      <td>1667</td>\n",
              "      <td>1426</td>\n",
              "      <td>335</td>\n",
              "    </tr>\n",
              "    <tr>\n",
              "      <th>4</th>\n",
              "      <td>0</td>\n",
              "      <td>2784</td>\n",
              "      <td>3589</td>\n",
              "      <td>3007</td>\n",
              "      <td>956</td>\n",
              "    </tr>\n",
              "  </tbody>\n",
              "</table>\n",
              "</div>\n",
              "    <div class=\"colab-df-buttons\">\n",
              "\n",
              "  <div class=\"colab-df-container\">\n",
              "    <button class=\"colab-df-convert\" onclick=\"convertToInteractive('df-283a8add-7078-4f7e-a6bc-24776ea02083')\"\n",
              "            title=\"Convert this dataframe to an interactive table.\"\n",
              "            style=\"display:none;\">\n",
              "\n",
              "  <svg xmlns=\"http://www.w3.org/2000/svg\" height=\"24px\" viewBox=\"0 -960 960 960\">\n",
              "    <path d=\"M120-120v-720h720v720H120Zm60-500h600v-160H180v160Zm220 220h160v-160H400v160Zm0 220h160v-160H400v160ZM180-400h160v-160H180v160Zm440 0h160v-160H620v160ZM180-180h160v-160H180v160Zm440 0h160v-160H620v160Z\"/>\n",
              "  </svg>\n",
              "    </button>\n",
              "\n",
              "  <style>\n",
              "    .colab-df-container {\n",
              "      display:flex;\n",
              "      gap: 12px;\n",
              "    }\n",
              "\n",
              "    .colab-df-convert {\n",
              "      background-color: #E8F0FE;\n",
              "      border: none;\n",
              "      border-radius: 50%;\n",
              "      cursor: pointer;\n",
              "      display: none;\n",
              "      fill: #1967D2;\n",
              "      height: 32px;\n",
              "      padding: 0 0 0 0;\n",
              "      width: 32px;\n",
              "    }\n",
              "\n",
              "    .colab-df-convert:hover {\n",
              "      background-color: #E2EBFA;\n",
              "      box-shadow: 0px 1px 2px rgba(60, 64, 67, 0.3), 0px 1px 3px 1px rgba(60, 64, 67, 0.15);\n",
              "      fill: #174EA6;\n",
              "    }\n",
              "\n",
              "    .colab-df-buttons div {\n",
              "      margin-bottom: 4px;\n",
              "    }\n",
              "\n",
              "    [theme=dark] .colab-df-convert {\n",
              "      background-color: #3B4455;\n",
              "      fill: #D2E3FC;\n",
              "    }\n",
              "\n",
              "    [theme=dark] .colab-df-convert:hover {\n",
              "      background-color: #434B5C;\n",
              "      box-shadow: 0px 1px 3px 1px rgba(0, 0, 0, 0.15);\n",
              "      filter: drop-shadow(0px 1px 2px rgba(0, 0, 0, 0.3));\n",
              "      fill: #FFFFFF;\n",
              "    }\n",
              "  </style>\n",
              "\n",
              "    <script>\n",
              "      const buttonEl =\n",
              "        document.querySelector('#df-283a8add-7078-4f7e-a6bc-24776ea02083 button.colab-df-convert');\n",
              "      buttonEl.style.display =\n",
              "        google.colab.kernel.accessAllowed ? 'block' : 'none';\n",
              "\n",
              "      async function convertToInteractive(key) {\n",
              "        const element = document.querySelector('#df-283a8add-7078-4f7e-a6bc-24776ea02083');\n",
              "        const dataTable =\n",
              "          await google.colab.kernel.invokeFunction('convertToInteractive',\n",
              "                                                    [key], {});\n",
              "        if (!dataTable) return;\n",
              "\n",
              "        const docLinkHtml = 'Like what you see? Visit the ' +\n",
              "          '<a target=\"_blank\" href=https://colab.research.google.com/notebooks/data_table.ipynb>data table notebook</a>'\n",
              "          + ' to learn more about interactive tables.';\n",
              "        element.innerHTML = '';\n",
              "        dataTable['output_type'] = 'display_data';\n",
              "        await google.colab.output.renderOutput(dataTable, element);\n",
              "        const docLink = document.createElement('div');\n",
              "        docLink.innerHTML = docLinkHtml;\n",
              "        element.appendChild(docLink);\n",
              "      }\n",
              "    </script>\n",
              "  </div>\n",
              "\n",
              "\n",
              "    <div id=\"df-463af2ea-d82a-4a73-b33b-820cd33edb85\">\n",
              "      <button class=\"colab-df-quickchart\" onclick=\"quickchart('df-463af2ea-d82a-4a73-b33b-820cd33edb85')\"\n",
              "                title=\"Suggest charts\"\n",
              "                style=\"display:none;\">\n",
              "\n",
              "<svg xmlns=\"http://www.w3.org/2000/svg\" height=\"24px\"viewBox=\"0 0 24 24\"\n",
              "     width=\"24px\">\n",
              "    <g>\n",
              "        <path d=\"M19 3H5c-1.1 0-2 .9-2 2v14c0 1.1.9 2 2 2h14c1.1 0 2-.9 2-2V5c0-1.1-.9-2-2-2zM9 17H7v-7h2v7zm4 0h-2V7h2v10zm4 0h-2v-4h2v4z\"/>\n",
              "    </g>\n",
              "</svg>\n",
              "      </button>\n",
              "\n",
              "<style>\n",
              "  .colab-df-quickchart {\n",
              "      --bg-color: #E8F0FE;\n",
              "      --fill-color: #1967D2;\n",
              "      --hover-bg-color: #E2EBFA;\n",
              "      --hover-fill-color: #174EA6;\n",
              "      --disabled-fill-color: #AAA;\n",
              "      --disabled-bg-color: #DDD;\n",
              "  }\n",
              "\n",
              "  [theme=dark] .colab-df-quickchart {\n",
              "      --bg-color: #3B4455;\n",
              "      --fill-color: #D2E3FC;\n",
              "      --hover-bg-color: #434B5C;\n",
              "      --hover-fill-color: #FFFFFF;\n",
              "      --disabled-bg-color: #3B4455;\n",
              "      --disabled-fill-color: #666;\n",
              "  }\n",
              "\n",
              "  .colab-df-quickchart {\n",
              "    background-color: var(--bg-color);\n",
              "    border: none;\n",
              "    border-radius: 50%;\n",
              "    cursor: pointer;\n",
              "    display: none;\n",
              "    fill: var(--fill-color);\n",
              "    height: 32px;\n",
              "    padding: 0;\n",
              "    width: 32px;\n",
              "  }\n",
              "\n",
              "  .colab-df-quickchart:hover {\n",
              "    background-color: var(--hover-bg-color);\n",
              "    box-shadow: 0 1px 2px rgba(60, 64, 67, 0.3), 0 1px 3px 1px rgba(60, 64, 67, 0.15);\n",
              "    fill: var(--button-hover-fill-color);\n",
              "  }\n",
              "\n",
              "  .colab-df-quickchart-complete:disabled,\n",
              "  .colab-df-quickchart-complete:disabled:hover {\n",
              "    background-color: var(--disabled-bg-color);\n",
              "    fill: var(--disabled-fill-color);\n",
              "    box-shadow: none;\n",
              "  }\n",
              "\n",
              "  .colab-df-spinner {\n",
              "    border: 2px solid var(--fill-color);\n",
              "    border-color: transparent;\n",
              "    border-bottom-color: var(--fill-color);\n",
              "    animation:\n",
              "      spin 1s steps(1) infinite;\n",
              "  }\n",
              "\n",
              "  @keyframes spin {\n",
              "    0% {\n",
              "      border-color: transparent;\n",
              "      border-bottom-color: var(--fill-color);\n",
              "      border-left-color: var(--fill-color);\n",
              "    }\n",
              "    20% {\n",
              "      border-color: transparent;\n",
              "      border-left-color: var(--fill-color);\n",
              "      border-top-color: var(--fill-color);\n",
              "    }\n",
              "    30% {\n",
              "      border-color: transparent;\n",
              "      border-left-color: var(--fill-color);\n",
              "      border-top-color: var(--fill-color);\n",
              "      border-right-color: var(--fill-color);\n",
              "    }\n",
              "    40% {\n",
              "      border-color: transparent;\n",
              "      border-right-color: var(--fill-color);\n",
              "      border-top-color: var(--fill-color);\n",
              "    }\n",
              "    60% {\n",
              "      border-color: transparent;\n",
              "      border-right-color: var(--fill-color);\n",
              "    }\n",
              "    80% {\n",
              "      border-color: transparent;\n",
              "      border-right-color: var(--fill-color);\n",
              "      border-bottom-color: var(--fill-color);\n",
              "    }\n",
              "    90% {\n",
              "      border-color: transparent;\n",
              "      border-bottom-color: var(--fill-color);\n",
              "    }\n",
              "  }\n",
              "</style>\n",
              "\n",
              "      <script>\n",
              "        async function quickchart(key) {\n",
              "          const quickchartButtonEl =\n",
              "            document.querySelector('#' + key + ' button');\n",
              "          quickchartButtonEl.disabled = true;  // To prevent multiple clicks.\n",
              "          quickchartButtonEl.classList.add('colab-df-spinner');\n",
              "          try {\n",
              "            const charts = await google.colab.kernel.invokeFunction(\n",
              "                'suggestCharts', [key], {});\n",
              "          } catch (error) {\n",
              "            console.error('Error during call to suggestCharts:', error);\n",
              "          }\n",
              "          quickchartButtonEl.classList.remove('colab-df-spinner');\n",
              "          quickchartButtonEl.classList.add('colab-df-quickchart-complete');\n",
              "        }\n",
              "        (() => {\n",
              "          let quickchartButtonEl =\n",
              "            document.querySelector('#df-463af2ea-d82a-4a73-b33b-820cd33edb85 button');\n",
              "          quickchartButtonEl.style.display =\n",
              "            google.colab.kernel.accessAllowed ? 'block' : 'none';\n",
              "        })();\n",
              "      </script>\n",
              "    </div>\n",
              "\n",
              "    </div>\n",
              "  </div>\n"
            ],
            "application/vnd.google.colaboratory.intrinsic+json": {
              "type": "dataframe",
              "summary": "{\n  \"name\": \"pd\",\n  \"rows\": 10,\n  \"fields\": [\n    {\n      \"column\": 0,\n      \"properties\": {\n        \"dtype\": \"number\",\n        \"std\": 264,\n        \"min\": 0,\n        \"max\": 642,\n        \"num_unique_values\": 3,\n        \"samples\": [\n          642,\n          0,\n          613\n        ],\n        \"semantic_type\": \"\",\n        \"description\": \"\"\n      }\n    },\n    {\n      \"column\": 1,\n      \"properties\": {\n        \"dtype\": \"number\",\n        \"std\": 9181,\n        \"min\": 0,\n        \"max\": 25601,\n        \"num_unique_values\": 9,\n        \"samples\": [\n          1439,\n          25601,\n          20039\n        ],\n        \"semantic_type\": \"\",\n        \"description\": \"\"\n      }\n    },\n    {\n      \"column\": 2,\n      \"properties\": {\n        \"dtype\": \"number\",\n        \"std\": 1203,\n        \"min\": 0,\n        \"max\": 3589,\n        \"num_unique_values\": 9,\n        \"samples\": [\n          1667,\n          2575,\n          2344\n        ],\n        \"semantic_type\": \"\",\n        \"description\": \"\"\n      }\n    },\n    {\n      \"column\": 3,\n      \"properties\": {\n        \"dtype\": \"number\",\n        \"std\": 1009,\n        \"min\": 0,\n        \"max\": 3007,\n        \"num_unique_values\": 9,\n        \"samples\": [\n          1426,\n          473,\n          606\n        ],\n        \"semantic_type\": \"\",\n        \"description\": \"\"\n      }\n    },\n    {\n      \"column\": 4,\n      \"properties\": {\n        \"dtype\": \"number\",\n        \"std\": 333,\n        \"min\": 0,\n        \"max\": 956,\n        \"num_unique_values\": 9,\n        \"samples\": [\n          335,\n          24,\n          41\n        ],\n        \"semantic_type\": \"\",\n        \"description\": \"\"\n      }\n    }\n  ]\n}"
            }
          },
          "metadata": {},
          "execution_count": 69
        }
      ]
    },
    {
      "cell_type": "code",
      "source": [
        "## Correlaciones\n",
        "\n",
        "Variables = [\"Exp abierta\",\"Tarjetas Sector\",\"mora sector\"]\n",
        "correlaciones = df[Variables].corr()\n",
        "\n",
        "print (correlaciones)"
      ],
      "metadata": {
        "colab": {
          "base_uri": "https://localhost:8080/"
        },
        "id": "EBnPV8Y_mNRO",
        "outputId": "149f02e1-81aa-4bd0-91d8-b96d4afe1de0"
      },
      "execution_count": null,
      "outputs": [
        {
          "output_type": "stream",
          "name": "stdout",
          "text": [
            "                 Exp abierta  Tarjetas Sector  mora sector\n",
            "Exp abierta         1.000000         0.588753     0.121902\n",
            "Tarjetas Sector     0.588753         1.000000     0.068150\n",
            "mora sector         0.121902         0.068150     1.000000\n"
          ]
        }
      ]
    },
    {
      "cell_type": "code",
      "source": [
        "## Correlaciones en gráfico\n",
        "\n",
        "sns.heatmap(correlaciones,annot=True,cmap=\"coolwarm\")\n",
        "plt.show()"
      ],
      "metadata": {
        "colab": {
          "base_uri": "https://localhost:8080/",
          "height": 435
        },
        "id": "jQZZkMDkm6GQ",
        "outputId": "ae739598-c6c2-4c69-cce9-af1d3a55d40c"
      },
      "execution_count": null,
      "outputs": [
        {
          "output_type": "display_data",
          "data": {
            "text/plain": [
              "<Figure size 640x480 with 2 Axes>"
            ],
            "image/png": "[encoded data removed]"
          },
          "metadata": {}
        }
      ]
    },
    {
      "cell_type": "code",
      "source": [
        "## Dispersión\n",
        "sns.scatterplot (x=\"Exp abierta\",y=\"Tarjetas Sector\",hue=\"mora sector\",data=df,alpha=0.5)\n",
        "plt.title(\"Dispersión: Exp abierta vs tarjetas, coloreado por mora sector\")\n",
        "plt.show()"
      ],
      "metadata": {
        "colab": {
          "base_uri": "https://localhost:8080/",
          "height": 472
        },
        "id": "1YTCK4qFn_6n",
        "outputId": "ce0bbea2-8c36-4173-b56a-35339bb1dfcd"
      },
      "execution_count": null,
      "outputs": [
        {
          "output_type": "display_data",
          "data": {
            "text/plain": [
              "<Figure size 640x480 with 1 Axes>"
            ],
            "image/png": "[encoded data removed]"
          },
          "metadata": {}
        }
      ]
    },
    {
      "cell_type": "code",
      "source": [
        "## Caja y bigotes entre la experiencia y la mora\n",
        "\n",
        "sns.boxplot(x='mora sector',y='Exp abierta',data=df)\n",
        "plt.show()"
      ],
      "metadata": {
        "colab": {
          "base_uri": "https://localhost:8080/",
          "height": 449
        },
        "id": "yIPhlD3nnuVm",
        "outputId": "13bd7761-6324-43c6-8ba8-b97cb0e178ed"
      },
      "execution_count": null,
      "outputs": [
        {
          "output_type": "display_data",
          "data": {
            "text/plain": [
              "<Figure size 640x480 with 1 Axes>"
            ],
            "image/png": "[encoded data removed]"
          },
          "metadata": {}
        }
      ]
    },
    {
      "cell_type": "code",
      "source": [
        "## Gráfico de cajas entre tarjetas en el sector y la mora\n",
        "\n",
        "sns.boxplot(x='mora sector',y='Tarjetas Sector',data=df)\n",
        "plt.show()"
      ],
      "metadata": {
        "colab": {
          "base_uri": "https://localhost:8080/",
          "height": 449
        },
        "id": "WlgTnSL8n0qk",
        "outputId": "a5e972f9-8825-4a2b-d437-27595e7bd298"
      },
      "execution_count": null,
      "outputs": [
        {
          "output_type": "display_data",
          "data": {
            "text/plain": [
              "<Figure size 640x480 with 1 Axes>"
            ],
            "image/png": "[encoded data removed]"
          },
          "metadata": {}
        }
      ]
    },
    {
      "cell_type": "code",
      "source": [
        "tabla = pd.crosstab(df[\"Exp abierta\"],df[\"mora sector\"])"
      ],
      "metadata": {
        "id": "_qO5wNvkqYK1"
      },
      "execution_count": null,
      "outputs": []
    },
    {
      "cell_type": "code",
      "source": [
        "## Gráfico de barras relacionando experiencia y mora\n",
        "\n",
        "ax = tabla.plot(kind=\"bar\", stacked=True,\n",
        "                figsize=(8,4))\n",
        "ax.set_title(\"Mora por experiencia\")\n",
        "ax.set_xlabel(\"Experiencia\")\n",
        "ax.set_ylabel(\"Porcentaje\")\n",
        "plt.xticks(rotation=0)\n",
        "plt.legend(title=\"Mora sector\", bbox_to_anchor=(1.02, 1), loc=\"upper left\")\n",
        "plt.tight_layout()\n",
        "\n",
        "# etiquetas centradas (opcional)\n",
        "for container in ax.containers:\n",
        "    ax.bar_label(container, fmt=\"%.0f\", label_type=\"center\")\n",
        "plt.show()"
      ],
      "metadata": {
        "colab": {
          "base_uri": "https://localhost:8080/",
          "height": 407
        },
        "id": "hXxbe0Y8pK_c",
        "outputId": "b4f4e63b-a92c-4952-dbf1-d987abf3d44b"
      },
      "execution_count": null,
      "outputs": [
        {
          "output_type": "display_data",
          "data": {
            "text/plain": [
              "<Figure size 800x400 with 1 Axes>"
            ],
            "image/png": "[encoded data removed]"
          },
          "metadata": {}
        }
      ]
    },
    {
      "cell_type": "code",
      "source": [
        "## apilamos al 100% gráfico de barras entre experiencia y moras\n",
        "\n",
        "import matplotlib.pyplot as plt\n",
        "from matplotlib.ticker import PercentFormatter\n",
        "\n",
        "# Crosstab (ejemplo Exp abierta vs Mora sector)\n",
        "tabla = pd.crosstab(index=df[\"Exp abierta\"], columns=df[\"mora sector\"])\n",
        "\n",
        "# Normalizar cada fila para que sume 1 (100%)\n",
        "tabla_pct = tabla.div(tabla.sum(axis=1), axis=0)\n",
        "\n",
        "# Gráfico apilado al 100%\n",
        "ax = tabla_pct.plot(kind=\"bar\", stacked=True, figsize=(8,4), colormap=\"Set2\")\n",
        "ax.set_title(\"Mora por Exp abierta (apilado 100%)\")\n",
        "ax.set_xlabel(\"Exp abierta\")\n",
        "ax.set_ylabel(\"Porcentaje\")\n",
        "ax.yaxis.set_major_formatter(PercentFormatter(1.0)) # mostrar eje Y en %\n",
        "\n",
        "plt.xticks(rotation=0)\n",
        "plt.legend(title=\"Mora sector\", bbox_to_anchor=(1.02, 1), loc=\"upper left\")\n",
        "plt.tight_layout()\n",
        "\n",
        "# etiquetas de porcentaje (opcional)\n",
        "for container in ax.containers:\n",
        "    labels = [f\"{v*100:.0f}%\" if v>0 else \"\" for v in container.datavalues]\n",
        "    ax.bar_label(container, labels=labels, label_type=\"center\")\n",
        "\n",
        "plt.show()"
      ],
      "metadata": {
        "colab": {
          "base_uri": "https://localhost:8080/",
          "height": 407
        },
        "id": "89Wg4Rbsr_UB",
        "outputId": "7ca235b9-300d-425b-a676-4657d5c21abb"
      },
      "execution_count": null,
      "outputs": [
        {
          "output_type": "display_data",
          "data": {
            "text/plain": [
              "<Figure size 800x400 with 1 Axes>"
            ],
            "image/png": "[encoded data removed]"
          },
          "metadata": {}
        }
      ]
    },
    {
      "cell_type": "code",
      "source": [
        "## Gráfico de barras apilado, esta vez entre número de tarjetas y mora\n",
        "\n",
        "import matplotlib.pyplot as plt\n",
        "from matplotlib.ticker import PercentFormatter\n",
        "\n",
        "# Crosstab (ejemplo Exp abierta vs Mora sector)\n",
        "tabla2 = pd.crosstab(index=df[\"Tarjetas Sector\"], columns=df[\"mora sector\"])\n",
        "\n",
        "# Normalizar cada fila para que sume 1 (100%)\n",
        "tabla_pct = tabla2.div(tabla2.sum(axis=1), axis=0)\n",
        "\n",
        "# Gráfico apilado al 100%\n",
        "ax = tabla_pct.plot(kind=\"bar\", stacked=True, figsize=(8,4), colormap=\"Set2\")\n",
        "ax.set_title(\"Mora por Num tarjetas (apilado 100%)\")\n",
        "ax.set_xlabel(\"Tarjetas\")\n",
        "ax.set_ylabel(\"Porcentaje\")\n",
        "ax.yaxis.set_major_formatter(PercentFormatter(1.0)) # mostrar eje Y en %\n",
        "\n",
        "plt.xticks(rotation=0)\n",
        "plt.legend(title=\"Mora sector\", bbox_to_anchor=(1.02, 1), loc=\"upper left\")\n",
        "plt.tight_layout()\n",
        "\n",
        "# etiquetas de porcentaje (opcional)\n",
        "for container in ax.containers:\n",
        "    labels = [f\"{v*100:.0f}%\" if v>0 else \"\" for v in container.datavalues]\n",
        "    ax.bar_label(container, labels=labels, label_type=\"center\")\n",
        "\n",
        "plt.show()"
      ],
      "metadata": {
        "colab": {
          "base_uri": "https://localhost:8080/",
          "height": 407
        },
        "id": "FvMYemXnslmV",
        "outputId": "3892fc69-b0ed-430a-b529-0433134912ad"
      },
      "execution_count": null,
      "outputs": [
        {
          "output_type": "display_data",
          "data": {
            "text/plain": [
              "<Figure size 800x400 with 1 Axes>"
            ],
            "image/png": "[encoded data removed]"
          },
          "metadata": {}
        }
      ]
    },
    {
      "cell_type": "markdown",
      "source": [
        "***Interpretación de resultados***"
      ],
      "metadata": {
        "id": "NQxwSsJytVmz"
      }
    },
    {
      "cell_type": "markdown",
      "source": [
        "Al generar la tabla de frecuencias cruzadas, podemos concluir que no hay evidencia suficiente para suponer que ante un mayor número de tarjetas y mayor experiencia, los clientes se desempeñen de mejor manera dado que para cada condición de mora, las participaciones no tienen una diferencia significativa.\n",
        "\n",
        "Al generar la correlación y el gráfico de dispersión, es evidente que las variables de experiencia y número de tarjetas tiene una relación, por lo que puedo estar cayendo en problemas de multicolinealidad. La morosidad aparece en todos los niveles, lo que indica que el desempeño de los clientes no solo depende de la experiencia y número de tarjetas.\n",
        "\n",
        "Al crear los gráficos de cajas y bigotes, vemos una relación diferencial entre experiencia y mora, fenomeno que no se da al revisar número de tarjetas y mora. La conclusión que se puede sacar con estos gráficos es contradictoria con la hipotesis dado que el gráfico nos dice que los clientes con menos experiencia predominan en buen desempeño.\n",
        "\n",
        "Finalmente, en los gráficos de barras apilados, enfrentamos las variables experienia y número de tarjetas vs la mora del cliente. Para ambos casos encontramos un resultado similar. La conclusión de nuevo es contradictorio dado que nos indica que ante un mayor número de tarjetas o una mayor experienia, el cliente tiene más probabilidades de estar en mora."
      ],
      "metadata": {
        "id": "yNVObLoLta-n"
      }
    },
    {
      "cell_type": "markdown",
      "source": [
        "***Conclusiones***"
      ],
      "metadata": {
        "id": "qmEIgMkYtbCA"
      }
    },
    {
      "cell_type": "markdown",
      "source": [
        "Podemos concluir que las variables seleccionadas no se comportan como esperabamos de acuerdo al conocimiento del dominio y en varios casos contradice nuestra hipotesis dado que clientes con mayor experiencia en el sistema, suelen desempeñarse levemente peor que clientes con menor experiencia.\n",
        "\n",
        "La recomendación para el siguiente análisis es trabajar el dataset con un modelo de regresión lógistico dada la característica de la variable y (mora sector).\n",
        "\n",
        "Se debe limpiar el dataset para eliminar o imputar en valores nulos y evitar pérdida de eficacia en la interpretación de mis variables."
      ],
      "metadata": {
        "id": "MMRq5EoztbPx"
      }
    }
  ]
}